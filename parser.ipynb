{
  "nbformat": 4,
  "nbformat_minor": 0,
  "metadata": {
    "colab": {
      "name": "PythonEng.ipynb",
      "provenance": [],
      "collapsed_sections": []
    },
    "kernelspec": {
      "name": "python3",
      "display_name": "Python 3"
    },
    "language_info": {
      "name": "python"
    }
  },
  "cells": [
    {
      "cell_type": "code",
      "execution_count": 17,
      "metadata": {
        "colab": {
          "base_uri": "https://localhost:8080/"
        },
        "id": "mzO0emvI1jBi",
        "outputId": "87c91c6f-c7a7-4d77-fbb6-69cf3a9b4661"
      },
      "outputs": [
        {
          "output_type": "stream",
          "name": "stdout",
          "text": [
            "['Python is an easy to learn, powerful programming language. It has efficient high-level data structures and a simple but effective approach to object-oriented programming. Python’s elegant syntax and dynamic typing, together with its interpreted nature, make it an ideal language for scripting and rapid application development in many areas on most platforms.\\n', '\\n', 'The Python interpreter and the extensive standard library are freely available in source or binary form for all major platforms from the Python web site, https://www.python.org/, and may be freely distributed. The same site also contains distributions of and pointers to many free third party Python modules, programs and tools, and additional documentation.\\n', '\\n', 'The Python interpreter is easily extended with new functions and data types implemented in C or C++ (or other languages callable from C). Python is also suitable as an extension language for customizable applications.\\n', '\\n', 'This tutorial introduces the reader informally to the basic concepts and features of the Python language and system. It helps to have a Python interpreter handy for hands-on experience, but all examples are self-contained, so the tutorial can be read off-line as well.\\n', '\\n', 'For a description of standard objects and modules, see The Python Standard Library. The Python Language Reference gives a more formal definition of the language. To write extensions in C or C++, read Extending and Embedding the Python Interpreter and Python/C API Reference Manual. There are also several books covering Python in depth.\\n', '\\n', 'This tutorial does not attempt to be comprehensive and cover every single feature, or even every commonly used feature. Instead, it introduces many of Python’s most noteworthy features, and will give you a good idea of the language’s flavor and style. After reading it, you will be able to read and write Python modules and programs, and you will be ready to learn more about the various Python library modules described in The Python Standard Library.\\n']\n",
            "Input: Python is an easy to learn, powerful programming language\n",
            "Remove punctuation and numbers: Python is an easy to learn  powerful programming language\n",
            "Lowercase and split: ['python', 'is', 'an', 'easy', 'to', 'learn', 'powerful', 'programming', 'language']\n",
            "Remove stop words: ['python', 'easy', 'learn', 'powerful', 'programming', 'language']\n",
            "Final: python easy learn powerful programming language\n",
            "Input:  It has efficient high-level data structures and a simple but effective approach to object-oriented programming\n",
            "Remove punctuation and numbers:  It has efficient high level data structures and a simple but effective approach to object oriented programming\n",
            "Lowercase and split: ['it', 'has', 'efficient', 'high', 'level', 'data', 'structures', 'and', 'a', 'simple', 'but', 'effective', 'approach', 'to', 'object', 'oriented', 'programming']\n",
            "Remove stop words: ['efficient', 'high', 'level', 'data', 'structures', 'simple', 'effective', 'approach', 'object', 'oriented', 'programming']\n",
            "Final: efficient high level data structures simple effective approach object oriented programming\n",
            "Input:  Python’s elegant syntax and dynamic typing, together with its interpreted nature, make it an ideal language for scripting and rapid application development in many areas on most platforms\n",
            "Remove punctuation and numbers:  Python s elegant syntax and dynamic typing  together with its interpreted nature  make it an ideal language for scripting and rapid application development in many areas on most platforms\n",
            "Lowercase and split: ['python', 's', 'elegant', 'syntax', 'and', 'dynamic', 'typing', 'together', 'with', 'its', 'interpreted', 'nature', 'make', 'it', 'an', 'ideal', 'language', 'for', 'scripting', 'and', 'rapid', 'application', 'development', 'in', 'many', 'areas', 'on', 'most', 'platforms']\n",
            "Remove stop words: ['python', 'elegant', 'syntax', 'dynamic', 'typing', 'together', 'interpreted', 'nature', 'make', 'ideal', 'language', 'scripting', 'rapid', 'application', 'development', 'many', 'areas', 'platforms']\n",
            "Final: python elegant syntax dynamic typing together interpreted nature make ideal language scripting rapid application development many areas platforms\n",
            "Input: \n",
            "\n",
            "Remove punctuation and numbers:  \n",
            "Lowercase and split: []\n",
            "Remove stop words: []\n",
            "Final: \n",
            "python: 1\n",
            "\n",
            "programming: 2\n",
            "\n",
            "language: 3\n",
            "\n",
            "easy: 4\n",
            "\n",
            "learn: 5\n",
            "\n",
            "powerful: 6\n",
            "\n",
            "efficient: 7\n",
            "\n",
            "high: 8\n",
            "\n",
            "level: 9\n",
            "\n",
            "data: 10\n",
            "\n",
            "structures: 11\n",
            "\n",
            "simple: 12\n",
            "\n",
            "effective: 13\n",
            "\n",
            "approach: 14\n",
            "\n",
            "object: 15\n",
            "\n",
            "oriented: 16\n",
            "\n",
            "elegant: 17\n",
            "\n",
            "syntax: 18\n",
            "\n",
            "dynamic: 19\n",
            "\n",
            "typing: 20\n",
            "\n",
            "together: 21\n",
            "\n",
            "interpreted: 22\n",
            "\n",
            "nature: 23\n",
            "\n",
            "make: 24\n",
            "\n",
            "ideal: 25\n",
            "\n",
            "scripting: 26\n",
            "\n",
            "rapid: 27\n",
            "\n",
            "application: 28\n",
            "\n",
            "development: 29\n",
            "\n",
            "many: 30\n",
            "\n",
            "areas: 31\n",
            "\n",
            "platforms: 32\n",
            "\n"
          ]
        },
        {
          "output_type": "stream",
          "name": "stderr",
          "text": [
            "[nltk_data] Downloading package stopwords to /root/nltk_data...\n",
            "[nltk_data]   Package stopwords is already up-to-date!\n"
          ]
        }
      ],
      "source": [
        "import re\n",
        "import nltk\n",
        "from nltk.corpus import stopwords\n",
        "from tensorflow.keras.preprocessing.text import Tokenizer\n",
        "\n",
        "sentences = []\n",
        "\n",
        "\n",
        "nltk.download('stopwords')\n",
        "swords = set(stopwords.words(\"english\"))\n",
        "\n",
        "def parse_text(text):\n",
        "    print(f'Input: {text}')\n",
        "\n",
        "    text = re.sub(\"[^a-zA-Z]\", ' ', text)\n",
        "    print(f'Remove punctuation and numbers: {text}')\n",
        "\n",
        "    text = text.lower().split()\n",
        "    print(f'Lowercase and split: {text}')\n",
        "    \n",
        "    text = [w for w in text if w not in swords]\n",
        "    print(f'Remove stop words: {text}')\n",
        "\n",
        "    text = \" \".join(text)\n",
        "    print(f'Final: {text}')\n",
        "\n",
        "    return text\n",
        "\n",
        "with open(\"/content/doc.txt\") as file:\n",
        "  content = file.readlines()\n",
        "  print(content)\n",
        "  sentences = [i for i in content[0].split('.')]\n",
        "\n",
        "for i in range(len(sentences)):\n",
        "  sentences[i] = parse_text(sentences[i])\n",
        "  \n",
        "\n",
        "tokenizer = Tokenizer(num_words = 100)\n",
        "tokenizer.fit_on_texts(sentences)\n",
        "word_index = tokenizer.word_index\n",
        "for k,v in word_index.items():\n",
        "  print(f\"{k}: {v}\\n\")"
      ]
    },
    {
      "cell_type": "code",
      "source": [
        ""
      ],
      "metadata": {
        "id": "3oarGxT33QnP"
      },
      "execution_count": null,
      "outputs": []
    }
  ]
}